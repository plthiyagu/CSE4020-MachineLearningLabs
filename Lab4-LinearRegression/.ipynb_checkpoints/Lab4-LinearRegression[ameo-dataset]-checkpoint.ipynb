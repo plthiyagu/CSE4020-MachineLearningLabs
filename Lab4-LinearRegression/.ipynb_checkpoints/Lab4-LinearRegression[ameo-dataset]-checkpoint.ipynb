{
 "cells": [
  {
   "cell_type": "markdown",
   "metadata": {},
   "source": [
    "## Raj Choudhary\n",
    "\n",
    "## 16BCE1384\n",
    "\n",
    "## Repository-link: https://github.com/raj1603chdry/CSE4020-MachineLearningLabs\n",
    "<br /><br />"
   ]
  },
  {
   "cell_type": "markdown",
   "metadata": {},
   "source": [
    "### Importing the libraries "
   ]
  },
  {
   "cell_type": "code",
   "execution_count": 1,
   "metadata": {},
   "outputs": [],
   "source": [
    "import numpy as np\n",
    "import pandas as pd\n",
    "import seaborn as sns\n",
    "import matplotlib.pyplot as plt\n",
    "%matplotlib inline\n",
    "from sklearn.linear_model import LinearRegression\n",
    "from sklearn.model_selection import train_test_split\n",
    "from sklearn.metrics import r2_score\n",
    "from sklearn.metrics import mean_squared_error"
   ]
  },
  {
   "cell_type": "markdown",
   "metadata": {},
   "source": [
    "### Loading the data "
   ]
  },
  {
   "cell_type": "code",
   "execution_count": 2,
   "metadata": {},
   "outputs": [
    {
     "data": {
      "text/html": [
       "<div>\n",
       "<style scoped>\n",
       "    .dataframe tbody tr th:only-of-type {\n",
       "        vertical-align: middle;\n",
       "    }\n",
       "\n",
       "    .dataframe tbody tr th {\n",
       "        vertical-align: top;\n",
       "    }\n",
       "\n",
       "    .dataframe thead th {\n",
       "        text-align: right;\n",
       "    }\n",
       "</style>\n",
       "<table border=\"1\" class=\"dataframe\">\n",
       "  <thead>\n",
       "    <tr style=\"text-align: right;\">\n",
       "      <th></th>\n",
       "      <th>10percentage</th>\n",
       "      <th>12percentage</th>\n",
       "      <th>collegeGPA</th>\n",
       "      <th>English</th>\n",
       "      <th>Logical</th>\n",
       "      <th>Quant</th>\n",
       "      <th>Domain</th>\n",
       "      <th>ComputerProgramming</th>\n",
       "      <th>ElectronicsAndSemicon</th>\n",
       "      <th>ComputerScience</th>\n",
       "      <th>...</th>\n",
       "      <th>GraduationYear_2016</th>\n",
       "      <th>GraduationYear_2017</th>\n",
       "      <th>Gender_f</th>\n",
       "      <th>Gender_m</th>\n",
       "      <th>Degree_B.Tech/B.E.</th>\n",
       "      <th>Degree_M.Sc. (Tech.)</th>\n",
       "      <th>Degree_M.Tech./M.E.</th>\n",
       "      <th>Degree_MCA</th>\n",
       "      <th>CollegeTier_1</th>\n",
       "      <th>CollegeTier_2</th>\n",
       "    </tr>\n",
       "  </thead>\n",
       "  <tbody>\n",
       "    <tr>\n",
       "      <th>0</th>\n",
       "      <td>84.3</td>\n",
       "      <td>95.8</td>\n",
       "      <td>78.00</td>\n",
       "      <td>515</td>\n",
       "      <td>585</td>\n",
       "      <td>525</td>\n",
       "      <td>0.635979</td>\n",
       "      <td>445</td>\n",
       "      <td>0</td>\n",
       "      <td>0</td>\n",
       "      <td>...</td>\n",
       "      <td>0</td>\n",
       "      <td>0</td>\n",
       "      <td>1</td>\n",
       "      <td>0</td>\n",
       "      <td>1</td>\n",
       "      <td>0</td>\n",
       "      <td>0</td>\n",
       "      <td>0</td>\n",
       "      <td>0</td>\n",
       "      <td>1</td>\n",
       "    </tr>\n",
       "    <tr>\n",
       "      <th>1</th>\n",
       "      <td>85.4</td>\n",
       "      <td>85.0</td>\n",
       "      <td>70.06</td>\n",
       "      <td>695</td>\n",
       "      <td>610</td>\n",
       "      <td>780</td>\n",
       "      <td>0.960603</td>\n",
       "      <td>0</td>\n",
       "      <td>466</td>\n",
       "      <td>0</td>\n",
       "      <td>...</td>\n",
       "      <td>0</td>\n",
       "      <td>0</td>\n",
       "      <td>0</td>\n",
       "      <td>1</td>\n",
       "      <td>1</td>\n",
       "      <td>0</td>\n",
       "      <td>0</td>\n",
       "      <td>0</td>\n",
       "      <td>0</td>\n",
       "      <td>1</td>\n",
       "    </tr>\n",
       "    <tr>\n",
       "      <th>2</th>\n",
       "      <td>85.0</td>\n",
       "      <td>68.2</td>\n",
       "      <td>70.00</td>\n",
       "      <td>615</td>\n",
       "      <td>545</td>\n",
       "      <td>370</td>\n",
       "      <td>0.450877</td>\n",
       "      <td>395</td>\n",
       "      <td>0</td>\n",
       "      <td>0</td>\n",
       "      <td>...</td>\n",
       "      <td>0</td>\n",
       "      <td>0</td>\n",
       "      <td>1</td>\n",
       "      <td>0</td>\n",
       "      <td>1</td>\n",
       "      <td>0</td>\n",
       "      <td>0</td>\n",
       "      <td>0</td>\n",
       "      <td>0</td>\n",
       "      <td>1</td>\n",
       "    </tr>\n",
       "    <tr>\n",
       "      <th>3</th>\n",
       "      <td>85.6</td>\n",
       "      <td>83.6</td>\n",
       "      <td>74.64</td>\n",
       "      <td>635</td>\n",
       "      <td>585</td>\n",
       "      <td>625</td>\n",
       "      <td>0.974396</td>\n",
       "      <td>615</td>\n",
       "      <td>0</td>\n",
       "      <td>0</td>\n",
       "      <td>...</td>\n",
       "      <td>0</td>\n",
       "      <td>0</td>\n",
       "      <td>0</td>\n",
       "      <td>1</td>\n",
       "      <td>1</td>\n",
       "      <td>0</td>\n",
       "      <td>0</td>\n",
       "      <td>0</td>\n",
       "      <td>1</td>\n",
       "      <td>0</td>\n",
       "    </tr>\n",
       "    <tr>\n",
       "      <th>4</th>\n",
       "      <td>78.0</td>\n",
       "      <td>76.8</td>\n",
       "      <td>73.90</td>\n",
       "      <td>545</td>\n",
       "      <td>625</td>\n",
       "      <td>465</td>\n",
       "      <td>0.124502</td>\n",
       "      <td>0</td>\n",
       "      <td>233</td>\n",
       "      <td>0</td>\n",
       "      <td>...</td>\n",
       "      <td>0</td>\n",
       "      <td>0</td>\n",
       "      <td>0</td>\n",
       "      <td>1</td>\n",
       "      <td>1</td>\n",
       "      <td>0</td>\n",
       "      <td>0</td>\n",
       "      <td>0</td>\n",
       "      <td>0</td>\n",
       "      <td>1</td>\n",
       "    </tr>\n",
       "  </tbody>\n",
       "</table>\n",
       "<p>5 rows × 70 columns</p>\n",
       "</div>"
      ],
      "text/plain": [
       "   10percentage  12percentage  collegeGPA  English  Logical  Quant    Domain  \\\n",
       "0          84.3          95.8       78.00      515      585    525  0.635979   \n",
       "1          85.4          85.0       70.06      695      610    780  0.960603   \n",
       "2          85.0          68.2       70.00      615      545    370  0.450877   \n",
       "3          85.6          83.6       74.64      635      585    625  0.974396   \n",
       "4          78.0          76.8       73.90      545      625    465  0.124502   \n",
       "\n",
       "   ComputerProgramming  ElectronicsAndSemicon  ComputerScience      ...        \\\n",
       "0                  445                      0                0      ...         \n",
       "1                    0                    466                0      ...         \n",
       "2                  395                      0                0      ...         \n",
       "3                  615                      0                0      ...         \n",
       "4                    0                    233                0      ...         \n",
       "\n",
       "   GraduationYear_2016  GraduationYear_2017  Gender_f  Gender_m  \\\n",
       "0                    0                    0         1         0   \n",
       "1                    0                    0         0         1   \n",
       "2                    0                    0         1         0   \n",
       "3                    0                    0         0         1   \n",
       "4                    0                    0         0         1   \n",
       "\n",
       "   Degree_B.Tech/B.E.  Degree_M.Sc. (Tech.)  Degree_M.Tech./M.E.  Degree_MCA  \\\n",
       "0                   1                     0                    0           0   \n",
       "1                   1                     0                    0           0   \n",
       "2                   1                     0                    0           0   \n",
       "3                   1                     0                    0           0   \n",
       "4                   1                     0                    0           0   \n",
       "\n",
       "   CollegeTier_1  CollegeTier_2  \n",
       "0              0              1  \n",
       "1              0              1  \n",
       "2              0              1  \n",
       "3              1              0  \n",
       "4              0              1  \n",
       "\n",
       "[5 rows x 70 columns]"
      ]
     },
     "execution_count": 2,
     "metadata": {},
     "output_type": "execute_result"
    }
   ],
   "source": [
    "X = pd.read_csv('../datasets/ameo_dataset/processed_dataset/X.csv')\n",
    "X.head()"
   ]
  },
  {
   "cell_type": "code",
   "execution_count": 3,
   "metadata": {},
   "outputs": [
    {
     "data": {
      "text/html": [
       "<div>\n",
       "<style scoped>\n",
       "    .dataframe tbody tr th:only-of-type {\n",
       "        vertical-align: middle;\n",
       "    }\n",
       "\n",
       "    .dataframe tbody tr th {\n",
       "        vertical-align: top;\n",
       "    }\n",
       "\n",
       "    .dataframe thead th {\n",
       "        text-align: right;\n",
       "    }\n",
       "</style>\n",
       "<table border=\"1\" class=\"dataframe\">\n",
       "  <thead>\n",
       "    <tr style=\"text-align: right;\">\n",
       "      <th></th>\n",
       "      <th>Salary</th>\n",
       "    </tr>\n",
       "  </thead>\n",
       "  <tbody>\n",
       "    <tr>\n",
       "      <th>0</th>\n",
       "      <td>420000</td>\n",
       "    </tr>\n",
       "    <tr>\n",
       "      <th>1</th>\n",
       "      <td>500000</td>\n",
       "    </tr>\n",
       "    <tr>\n",
       "      <th>2</th>\n",
       "      <td>325000</td>\n",
       "    </tr>\n",
       "    <tr>\n",
       "      <th>3</th>\n",
       "      <td>1100000</td>\n",
       "    </tr>\n",
       "    <tr>\n",
       "      <th>4</th>\n",
       "      <td>200000</td>\n",
       "    </tr>\n",
       "  </tbody>\n",
       "</table>\n",
       "</div>"
      ],
      "text/plain": [
       "    Salary\n",
       "0   420000\n",
       "1   500000\n",
       "2   325000\n",
       "3  1100000\n",
       "4   200000"
      ]
     },
     "execution_count": 3,
     "metadata": {},
     "output_type": "execute_result"
    }
   ],
   "source": [
    "y = pd.read_csv('../datasets/ameo_dataset/processed_dataset/y_reg.csv')\n",
    "y.head()"
   ]
  },
  {
   "cell_type": "markdown",
   "metadata": {},
   "source": [
    "### Training Simple Linear Regression model "
   ]
  },
  {
   "cell_type": "code",
   "execution_count": 4,
   "metadata": {},
   "outputs": [],
   "source": [
    "X1 = X[['Quant']].values"
   ]
  },
  {
   "cell_type": "markdown",
   "metadata": {},
   "source": [
    "##### from the experiment of decision tree, we found that the most important feature is Quant "
   ]
  },
  {
   "cell_type": "code",
   "execution_count": 5,
   "metadata": {},
   "outputs": [
    {
     "name": "stderr",
     "output_type": "stream",
     "text": [
      "/anaconda3/lib/python3.6/site-packages/sklearn/linear_model/base.py:509: RuntimeWarning: internal gelsd driver lwork query error, required iwork dimension not returned. This is likely the result of LAPACK bug 0038, fixed in LAPACK 3.2.2 (released July 21, 2010). Falling back to 'gelss' driver.\n",
      "  linalg.lstsq(X, y)\n"
     ]
    },
    {
     "data": {
      "text/plain": [
       "LinearRegression(copy_X=True, fit_intercept=True, n_jobs=1, normalize=False)"
      ]
     },
     "execution_count": 5,
     "metadata": {},
     "output_type": "execute_result"
    }
   ],
   "source": [
    "slr = LinearRegression()\n",
    "slr.fit(X1, y)"
   ]
  },
  {
   "cell_type": "markdown",
   "metadata": {},
   "source": [
    "### Visualising the learned model"
   ]
  },
  {
   "cell_type": "code",
   "execution_count": 6,
   "metadata": {},
   "outputs": [],
   "source": [
    "def lin_regplot(X, y, model):\n",
    "    plt.scatter(X, y, c='lightblue')\n",
    "    plt.plot(X, model.predict(X), color='red', linewidth=2)    \n",
    "    return"
   ]
  },
  {
   "cell_type": "code",
   "execution_count": 7,
   "metadata": {},
   "outputs": [
    {
     "data": {
      "image/png": "[encoded data removed]",
      "text/plain": [
       "<Figure size 432x288 with 1 Axes>"
      ]
     },
     "metadata": {},
     "output_type": "display_data"
    }
   ],
   "source": [
    "lin_regplot(X1, y, slr)\n",
    "plt.xlabel('Quant Score')\n",
    "plt.ylabel('Salary')\n",
    "plt.show()"
   ]
  },
  {
   "cell_type": "markdown",
   "metadata": {},
   "source": [
    "#### From the plot above, we can see that a linear regression model is not able to predict the expected salary of the candidates accurately. "
   ]
  },
  {
   "cell_type": "markdown",
   "metadata": {},
   "source": [
    "### Training the linear regresssion model on the training data and checking its performance on the test data "
   ]
  },
  {
   "cell_type": "code",
   "execution_count": 8,
   "metadata": {},
   "outputs": [],
   "source": [
    "X_train, X_test, y_train, y_test = train_test_split(\n",
    "    X, y, test_size=0.3, random_state=42)"
   ]
  },
  {
   "cell_type": "code",
   "execution_count": 9,
   "metadata": {},
   "outputs": [],
   "source": [
    "slr = LinearRegression()\n",
    "slr.fit(X_train,y_train)\n",
    "\n",
    "y_train_pred = slr.predict(X_train)\n",
    "y_test_pred = slr.predict(X_test)"
   ]
  },
  {
   "cell_type": "code",
   "execution_count": 10,
   "metadata": {},
   "outputs": [
    {
     "name": "stdout",
     "output_type": "stream",
     "text": [
      "Train: 35780318340.145 \t Test: 39469945138.427\n"
     ]
    }
   ],
   "source": [
    "print('Train: %.3f \\t Test: %.3f' % (\n",
    "        mean_squared_error(y_train, y_train_pred),\n",
    "        mean_squared_error(y_test, y_test_pred)))"
   ]
  },
  {
   "cell_type": "code",
   "execution_count": 11,
   "metadata": {},
   "outputs": [
    {
     "name": "stdout",
     "output_type": "stream",
     "text": [
      "Train: 0.186 \t Test: 0.182\n"
     ]
    }
   ],
   "source": [
    "print('Train: %.3f \\t Test: %.3f' % (\n",
    "        r2_score(y_train, y_train_pred),\n",
    "        r2_score(y_test, y_test_pred)))"
   ]
  },
  {
   "cell_type": "markdown",
   "metadata": {},
   "source": [
    "#### From seeing the poor values of MSE and R2 score, we can conclude a linear regression model will not be able to predcit the salaries of the candidates accurately. The linear model makes very high error"
   ]
  },
  {
   "cell_type": "markdown",
   "metadata": {},
   "source": [
    "### Checking the performance for differnet types of regression model"
   ]
  },
  {
   "cell_type": "markdown",
   "metadata": {},
   "source": [
    "#### Using regularized linear regression model "
   ]
  },
  {
   "cell_type": "code",
   "execution_count": 18,
   "metadata": {},
   "outputs": [
    {
     "name": "stdout",
     "output_type": "stream",
     "text": [
      "[ 1.02673674e+03  1.10832174e+03  3.29147131e+03  1.62521879e+02\n",
      "  1.10022349e+02  1.04110439e+02  2.29662648e+04  2.54101962e+01\n",
      " -6.12067747e+01 -4.15690793e+01  1.33779666e+02 -5.58373801e+01\n",
      "  4.68942470e+00  3.23955118e+02 -1.32531285e+04  1.25237551e+04\n",
      "  8.03178534e+03 -9.60259193e+03 -1.35489044e+04 -7.30388499e+04\n",
      "  2.24590535e+04  2.23691009e+04 -1.52531979e+04 -3.93949321e+04\n",
      "  5.64609950e-03  1.61160373e+04  1.39239840e+05 -1.02632593e+05\n",
      " -2.72714678e+03 -2.42908574e+04  2.05289040e+05 -2.76963736e+04\n",
      " -2.13024510e-02  3.13040555e+04  1.11129038e+04  1.35080604e+05\n",
      "  1.90531938e+04 -9.18394011e+04  2.24873508e+04  2.32349175e+04\n",
      "  1.60159431e+05 -1.54235528e+04 -7.32136030e+03 -1.68362536e+04\n",
      "  2.19906664e+05 -3.81760250e+04 -3.67088446e+03 -1.34002054e+05\n",
      "  6.75639270e+03  3.08534907e+04 -2.58107780e+04  0.00000000e+00\n",
      "  0.00000000e+00  1.11470202e+05  1.27434842e+05  6.82550942e+04\n",
      "  0.00000000e+00 -3.81619170e+04 -5.22017393e+04  1.91635512e+04\n",
      " -1.15910608e+04 -1.14963020e+05 -2.86947429e+04  0.00000000e+00\n",
      "  1.24376481e+04  0.00000000e+00 -4.17499792e+03  0.00000000e+00\n",
      "  8.05318176e+04 -5.33482258e-07]\n"
     ]
    }
   ],
   "source": [
    "from sklearn.linear_model import Lasso\n",
    "\n",
    "lasso = Lasso(alpha=0.01, max_iter = 1000000)\n",
    "lasso.fit(X_train, y_train)\n",
    "y_train_pred = lasso.predict(X_train)\n",
    "y_test_pred = lasso.predict(X_test)\n",
    "print(lasso.coef_)"
   ]
  },
  {
   "cell_type": "code",
   "execution_count": 19,
   "metadata": {},
   "outputs": [
    {
     "name": "stdout",
     "output_type": "stream",
     "text": [
      "MSE train: 35780318341.441, test: 39464365226.676\n",
      "R^2 train: 0.186, test: 0.182\n"
     ]
    }
   ],
   "source": [
    "print('MSE train: %.3f, test: %.3f' % (\n",
    "        mean_squared_error(y_train, y_train_pred),\n",
    "        mean_squared_error(y_test, y_test_pred)))\n",
    "print('R^2 train: %.3f, test: %.3f' % (\n",
    "        r2_score(y_train, y_train_pred),\n",
    "        r2_score(y_test, y_test_pred)))"
   ]
  },
  {
   "cell_type": "code",
   "execution_count": 20,
   "metadata": {},
   "outputs": [
    {
     "name": "stdout",
     "output_type": "stream",
     "text": [
      "[ 1.02674046e+03  1.10835449e+03  3.29135545e+03  1.62524987e+02\n",
      "  1.10022095e+02  1.04112915e+02  2.29636515e+04  2.54154115e+01\n",
      " -6.11988617e+01 -4.15703454e+01  1.33764726e+02 -5.58376566e+01\n",
      "  4.69188061e+00  3.23839256e+02 -1.32528179e+04  1.25236672e+04\n",
      "  8.03187809e+03 -9.60222527e+03 -1.35487956e+04 -7.29734232e+04\n",
      "  2.24637612e+04  2.23721070e+04 -1.52426990e+04 -3.93775755e+04\n",
      "  5.64741928e-02  1.61115009e+04  1.39152323e+05 -1.02589628e+05\n",
      " -2.71676968e+03 -2.42884302e+04  2.05018817e+05 -2.76833631e+04\n",
      " -2.13038240e-01  3.12793558e+04  1.10600565e+04  1.35058828e+05\n",
      "  1.90496821e+04 -9.18312941e+04  2.24840891e+04  2.32308644e+04\n",
      "  1.60030580e+05 -1.54236850e+04 -7.32264224e+03 -1.68364059e+04\n",
      "  2.19776990e+05 -3.81769489e+04 -3.67294944e+03 -1.33877492e+05\n",
      "  6.75355375e+03  3.08472244e+04 -2.58111565e+04  0.00000000e+00\n",
      "  0.00000000e+00  1.11453047e+05  1.27434272e+05  6.82539908e+04\n",
      "  0.00000000e+00 -3.81620970e+04 -5.22004637e+04  1.91580312e+04\n",
      " -1.15275171e+04 -1.14925218e+05 -2.86937700e+04  3.09905165e-10\n",
      "  1.24346599e+04  0.00000000e+00 -4.16782071e+03  0.00000000e+00\n",
      "  8.05282831e+04 -8.21944811e-08]\n"
     ]
    }
   ],
   "source": [
    "from sklearn.linear_model import Lasso\n",
    "\n",
    "lasso = Lasso(alpha=0.1, max_iter = 100000)\n",
    "lasso.fit(X_train, y_train)\n",
    "y_train_pred = lasso.predict(X_train)\n",
    "y_test_pred = lasso.predict(X_test)\n",
    "print(lasso.coef_)"
   ]
  },
  {
   "cell_type": "code",
   "execution_count": 21,
   "metadata": {},
   "outputs": [
    {
     "name": "stdout",
     "output_type": "stream",
     "text": [
      "MSE train: 35780318469.807, test: 39463945560.911\n",
      "R^2 train: 0.186, test: 0.182\n"
     ]
    }
   ],
   "source": [
    "print('MSE train: %.3f, test: %.3f' % (\n",
    "        mean_squared_error(y_train, y_train_pred),\n",
    "        mean_squared_error(y_test, y_test_pred)))\n",
    "print('R^2 train: %.3f, test: %.3f' % (\n",
    "        r2_score(y_train, y_train_pred),\n",
    "        r2_score(y_test, y_test_pred)))"
   ]
  },
  {
   "cell_type": "markdown",
   "metadata": {},
   "source": [
    "#### After running Lasso regression i.e. Linear Regression with L1 regularization with \n",
    "#### 1. alpha = 0.01 and max_iter = 1000000\n",
    "#### 2. alpha = 0.1 and max_iter = 10000\n",
    "#### we see that the performance of the model is same as that of the simple linear model as a single variable is not able to showcase the pattern in the dataset"
   ]
  },
  {
   "cell_type": "markdown",
   "metadata": {},
   "source": [
    "#### Using polynomial regression "
   ]
  },
  {
   "cell_type": "code",
   "execution_count": 25,
   "metadata": {},
   "outputs": [],
   "source": [
    "def curve_plots(X,y):\n",
    "    regr = LinearRegression() \n",
    "    # create polynomial features\n",
    "    from sklearn.preprocessing import PolynomialFeatures\n",
    "    quadratic = PolynomialFeatures(degree=2)\n",
    "    cubic = PolynomialFeatures(degree=3)\n",
    "    X_quad = quadratic.fit_transform(X)\n",
    "    X_cubic = cubic.fit_transform(X)\n",
    "    \n",
    "    # linear fit\n",
    "    from sklearn.metrics import r2_score\n",
    "    X_fit = np.arange(X.min(), X.max(), 1)[:, np.newaxis]\n",
    "    regr = regr.fit(X, y)\n",
    "    y_lin_fit = regr.predict(X_fit)\n",
    "    linear_r2 = r2_score(y, regr.predict(X))\n",
    "    \n",
    "    # quadratic fit\n",
    "    regr = regr.fit(X_quad, y)\n",
    "    y_quad_fit = regr.predict(quadratic.fit_transform(X_fit))\n",
    "    quadratic_r2 = r2_score(y, regr.predict(X_quad))\n",
    "    \n",
    "    # cubic fit\n",
    "    regr = regr.fit(X_cubic, y)\n",
    "    y_cubic_fit = regr.predict(cubic.fit_transform(X_fit))\n",
    "    cubic_r2 = r2_score(y, regr.predict(X_cubic))\n",
    "    \n",
    "    # plot results\n",
    "    plt.scatter(X, y,label='training points',color='lightgray')\n",
    "    plt.plot(X_fit, y_lin_fit,label='linear (d=1), $R^2=%.2f$'% linear_r2,color='blue',lw=2,linestyle=':')\n",
    "    plt.plot(X_fit, y_quad_fit,label='quadratic (d=2), $R^2=%.2f$'% quadratic_r2,color='red',lw=2,linestyle='-')\n",
    "    plt.plot(X_fit, y_cubic_fit,label='cubic (d=3), $R^2=%.2f$'% cubic_r2,color='green',lw=2,linestyle='--')\n",
    "    plt.xlabel('Quant')\n",
    "    plt.ylabel('Salary')\n",
    "    plt.legend(loc='upper right')\n",
    "    plt.show()\n",
    "    return None"
   ]
  },
  {
   "cell_type": "code",
   "execution_count": 26,
   "metadata": {},
   "outputs": [
    {
     "data": {
      "image/png": "[encoded data removed]",
      "text/plain": [
       "<Figure size 432x288 with 1 Axes>"
      ]
     },
     "metadata": {},
     "output_type": "display_data"
    }
   ],
   "source": [
    "curve_plots(X1, y)"
   ]
  },
  {
   "cell_type": "markdown",
   "metadata": {},
   "source": [
    "#### The above polynomial regression curve for d = 1, 2 and 3, show that even polynomial features are not able to recognize the pattern in the dataset and all have a comparable R2 score 0f 0.05. The above problem could solved by using multivariate regression as with the help of more than 1 feature, it would be better able to recognize the pattern in the dataset. "
   ]
  },
  {
   "cell_type": "code",
   "execution_count": null,
   "metadata": {},
   "outputs": [],
   "source": []
  }
 ],
 "metadata": {
  "kernelspec": {
   "display_name": "Python 3",
   "language": "python",
   "name": "python3"
  },
  "language_info": {
   "codemirror_mode": {
    "name": "ipython",
    "version": 3
   },
   "file_extension": ".py",
   "mimetype": "text/x-python",
   "name": "python",
   "nbconvert_exporter": "python",
   "pygments_lexer": "ipython3",
   "version": "3.6.4"
  }
 },
 "nbformat": 4,
 "nbformat_minor": 2
}
