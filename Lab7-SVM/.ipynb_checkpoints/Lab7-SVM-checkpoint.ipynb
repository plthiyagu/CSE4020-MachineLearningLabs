{
 "cells": [
  {
   "cell_type": "markdown",
   "metadata": {},
   "source": [
    "## Raj Choudhary\n",
    "\n",
    "## 16BCE1384\n",
    "\n",
    "## Repository-link: https://github.com/raj1603chdry/CSE4020-MachineLearningLabs\n",
    "<br /><br />"
   ]
  },
  {
   "cell_type": "markdown",
   "metadata": {},
   "source": [
    "### Importing the libraries "
   ]
  },
  {
   "cell_type": "code",
   "execution_count": null,
   "metadata": {},
   "outputs": [],
   "source": [
    "%matplotlib inline\n",
    "import numpy as np\n",
    "import pandas as pd\n",
    "import matplotlib.pyplot as plt\n",
    "from matplotlib.colors import ListedColormap\n",
    "import seaborn as sb\n",
    "from scipy import stats\n",
    "import seaborn as sns;sns.set()\n",
    "from sklearn.svm import SVC\n",
    "from sklearn.svm import SVR\n",
    "from sklearn.model_selection import train_test_split\n",
    "from sklearn.metrics import accuracy_score"
   ]
  },
  {
   "cell_type": "markdown",
   "metadata": {},
   "source": [
    "### Importing the dataset "
   ]
  },
  {
   "cell_type": "code",
   "execution_count": null,
   "metadata": {},
   "outputs": [],
   "source": [
    "X = pd.read_csv('../datasets/ameo_dataset/processed_dataset/X.csv')\n",
    "y = pd.read_csv('../datasets/ameo_dataset/processed_dataset/y_cat.csv')"
   ]
  },
  {
   "cell_type": "markdown",
   "metadata": {},
   "source": [
    "**Splitting the dataset into training set and test set**"
   ]
  },
  {
   "cell_type": "code",
   "execution_count": null,
   "metadata": {},
   "outputs": [],
   "source": [
    "X_train, X_test, y_train, y_test = train_test_split(X, y, test_size = 0.2, random_state = 100)"
   ]
  },
  {
   "cell_type": "markdown",
   "metadata": {},
   "source": [
    "### Data Analysis "
   ]
  },
  {
   "cell_type": "code",
   "execution_count": null,
   "metadata": {},
   "outputs": [],
   "source": [
    "X.head()"
   ]
  },
  {
   "cell_type": "code",
   "execution_count": null,
   "metadata": {},
   "outputs": [],
   "source": [
    "X.columns"
   ]
  },
  {
   "cell_type": "code",
   "execution_count": null,
   "metadata": {},
   "outputs": [],
   "source": [
    "X['Salary'] = y['Salary']\n",
    "cols = ['10percentage', \n",
    "        '12percentage', \n",
    "        'collegeGPA', \n",
    "        'English',\n",
    "        'Logical',\n",
    "        'Quant', \n",
    "        'Domain', \n",
    "        'agreeableness', \n",
    "        'openess_to_experience']\n",
    "sb.pairplot(X, vars = cols, hue = 'Salary')"
   ]
  },
  {
   "cell_type": "code",
   "execution_count": null,
   "metadata": {},
   "outputs": [],
   "source": [
    "X.loc[X['Salary']=='(34999.999, 180000.0]','Salary']=1\n",
    "X.loc[X['Salary']=='(180000.0, 300000.0]','Salary']=2\n",
    "X.loc[X['Salary']=='(300000.0, 370000.0]','Salary']=3\n",
    "X.loc[X['Salary']=='(370000.0, 4000000.0]','Salary']=4\n",
    "sal = X['Salary']"
   ]
  },
  {
   "cell_type": "code",
   "execution_count": null,
   "metadata": {},
   "outputs": [],
   "source": [
    "plt.scatter(X['Quant'],X['ComputerProgramming'],c=sal,s=40,cmap='terrain');"
   ]
  },
  {
   "cell_type": "code",
   "execution_count": null,
   "metadata": {},
   "outputs": [],
   "source": [
    "cols_copy = ['Quant','ComputerProgramming']\n",
    "X_train_short = X_train[cols_copy]\n",
    "X_test_short = X_test[cols_copy]\n",
    "X_train_short.head()"
   ]
  },
  {
   "cell_type": "code",
   "execution_count": null,
   "metadata": {},
   "outputs": [],
   "source": [
    "y_train.loc[y_train['Salary']=='(34999.999, 180000.0]','Salary']=1\n",
    "y_train.loc[y_train['Salary']=='(180000.0, 300000.0]','Salary']=2\n",
    "y_train.loc[y_train['Salary']=='(300000.0, 370000.0]','Salary']=3\n",
    "y_train.loc[y_train['Salary']=='(370000.0, 4000000.0]','Salary']=4\n",
    "y_test.loc[y_test['Salary']=='(34999.999, 180000.0]','Salary']=1\n",
    "y_test.loc[y_test['Salary']=='(180000.0, 300000.0]','Salary']=2\n",
    "y_test.loc[y_test['Salary']=='(300000.0, 370000.0]','Salary']=3\n",
    "y_test.loc[y_test['Salary']=='(370000.0, 4000000.0]','Salary']=4"
   ]
  },
  {
   "cell_type": "code",
   "execution_count": null,
   "metadata": {},
   "outputs": [],
   "source": [
    "y_test.head()"
   ]
  },
  {
   "cell_type": "markdown",
   "metadata": {},
   "source": [
    "### Making a pipeline for SVM training "
   ]
  },
  {
   "cell_type": "code",
   "execution_count": null,
   "metadata": {},
   "outputs": [],
   "source": [
    "from sklearn.pipeline import make_pipeline\n",
    "from sklearn.model_selection import GridSearchCV\n",
    "from sklearn.preprocessing import StandardScaler"
   ]
  },
  {
   "cell_type": "code",
   "execution_count": null,
   "metadata": {},
   "outputs": [],
   "source": [
    "pipe_svc = make_pipeline(StandardScaler(),\n",
    "                         SVC(random_state = 1))\n",
    "\n",
    "param_range = [0.0001, 0.001, 0.01, 0.1, 1.0, 10.0, 100.0, 1000.0]\n",
    "\n",
    "param_grid = [{'svc__C': param_range,\n",
    "               'svc__kernel': ['linear']},\n",
    "              {'svc__C': param_range,\n",
    "               'svc__gamma': param_range,\n",
    "               'svc__kernel': ['rbf']}]\n",
    "\n",
    "gs = GridSearchCV(estimator = pipe_svc,\n",
    "                  param_grid = param_grid,\n",
    "                  scoring = 'accuracy',\n",
    "                  cv = 10,\n",
    "                  n_jobs = -1,\n",
    "                  verbose = 1)\n",
    "\n",
    "gs.fit(X_train_short, y_train.values.ravel())"
   ]
  },
  {
   "cell_type": "code",
   "execution_count": null,
   "metadata": {},
   "outputs": [],
   "source": [
    "print(gs.best_score_)\n",
    "print(gs.best_params_)"
   ]
  },
  {
   "cell_type": "code",
   "execution_count": null,
   "metadata": {},
   "outputs": [],
   "source": [
    "clf = gs.best_estimator_\n",
    "clf.fit(X_train_short, y_train.values.ravel())"
   ]
  },
  {
   "cell_type": "code",
   "execution_count": null,
   "metadata": {},
   "outputs": [],
   "source": [
    "print('Train Accuracy: %.3f' % (clf.score(X_train_short, y_train)*100))\n",
    "print('Test Accuracy: %.3f' % (clf.score(X_test_short, y_test)*100))"
   ]
  },
  {
   "cell_type": "code",
   "execution_count": null,
   "metadata": {},
   "outputs": [],
   "source": []
  }
 ],
 "metadata": {
  "kernelspec": {
   "display_name": "Python 3",
   "language": "python",
   "name": "python3"
  },
  "language_info": {
   "codemirror_mode": {
    "name": "ipython",
    "version": 3
   },
   "file_extension": ".py",
   "mimetype": "text/x-python",
   "name": "python",
   "nbconvert_exporter": "python",
   "pygments_lexer": "ipython3",
   "version": "3.6.4"
  }
 },
 "nbformat": 4,
 "nbformat_minor": 2
}
